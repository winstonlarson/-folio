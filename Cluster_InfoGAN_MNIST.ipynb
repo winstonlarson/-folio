{
  "nbformat": 4,
  "nbformat_minor": 0,
  "metadata": {
    "colab": {
      "name": "Cluster_InfoGAN_MNIST.ipynb",
      "version": "0.3.2",
      "provenance": [],
      "include_colab_link": true
    },
    "kernelspec": {
      "name": "python3",
      "display_name": "Python 3"
    },
    "accelerator": "GPU"
  },
  "cells": [
    {
      "cell_type": "markdown",
      "metadata": {
        "id": "view-in-github",
        "colab_type": "text"
      },
      "source": [
        "<a href=\"https://colab.research.google.com/github/winstonlarson/-folio/blob/master/Cluster_InfoGAN_MNIST.ipynb\" target=\"_parent\"><img src=\"https://colab.research.google.com/assets/colab-badge.svg\" alt=\"Open In Colab\"/></a>"
      ]
    },
    {
      "cell_type": "markdown",
      "metadata": {
        "id": "HPDh70RAsXWH",
        "colab_type": "text"
      },
      "source": [
        "# Cluster InfoGAN MNIST\n",
        "\n",
        "https://github.com/eriklindernoren/Keras-GAN/blob/master/infogan/infogan.py"
      ]
    },
    {
      "cell_type": "markdown",
      "metadata": {
        "id": "z47RVhYmslXG",
        "colab_type": "text"
      },
      "source": [
        "Import libraries"
      ]
    },
    {
      "cell_type": "code",
      "metadata": {
        "id": "LkKXuNuvr1gJ",
        "colab_type": "code",
        "colab": {}
      },
      "source": [
        "import tensorflow as tf\n",
        "from tensorflow.keras.datasets import mnist\n",
        "from tensorflow.keras.layers import Input, Dense, Reshape, Flatten, Dropout, multiply, concatenate\n",
        "from tensorflow.keras.layers import BatchNormalization, Activation, Embedding, ZeroPadding2D, Lambda\n",
        "from tensorflow.keras.layers import LeakyReLU, UpSampling2D, Conv2D\n",
        "from tensorflow.keras.models import Sequential, Model, load_model\n",
        "from tensorflow.keras.optimizers import Adam\n",
        "from tensorflow.keras.utils import to_categorical\n",
        "import tensorflow.keras.backend as K\n",
        "\n",
        "import matplotlib.pyplot as plt\n",
        "from sklearn.metrics import euclidean_distances\n",
        "import numpy as np\n",
        "import os"
      ],
      "execution_count": 0,
      "outputs": []
    },
    {
      "cell_type": "code",
      "metadata": {
        "id": "VWBE1a0FENyy",
        "colab_type": "code",
        "colab": {}
      },
      "source": [
        "IMG_ROWS = 28\n",
        "IMG_COLS = 28\n",
        "CHANNELS = 1\n",
        "NUM_CLASSES = 10\n",
        "IMG_SHAPE = (IMG_ROWS, IMG_COLS, CHANNELS)\n",
        "LATENT_DIM = 72"
      ],
      "execution_count": 0,
      "outputs": []
    },
    {
      "cell_type": "code",
      "metadata": {
        "id": "250DREELtnPt",
        "colab_type": "code",
        "colab": {}
      },
      "source": [
        "def save_images(epoch, generator):\n",
        "    r, c = 5, 5\n",
        "    noise = np.random.normal(0, 1, (r * c, LATENT_DIM))\n",
        "    gen_imgs = generator.predict(noise)\n",
        "\n",
        "    # Rescale images 0 - 1\n",
        "    gen_imgs = 0.5 * gen_imgs + 0.5\n",
        "\n",
        "    fig, axs = plt.subplots(r, c)\n",
        "    cnt = 0\n",
        "    for i in range(r):\n",
        "        for j in range(c):\n",
        "            axs[i,j].imshow(gen_imgs[cnt, :,:,0], cmap='gray')\n",
        "            axs[i,j].axis('off')\n",
        "            cnt += 1\n",
        "    fig.savefig(\"images/mnist_%d.png\" % epoch)\n",
        "    plt.close()"
      ],
      "execution_count": 0,
      "outputs": []
    },
    {
      "cell_type": "code",
      "metadata": {
        "id": "PYEfndTnuUrO",
        "colab_type": "code",
        "colab": {}
      },
      "source": [
        "def build_generator():\n",
        "\n",
        "    # model = Sequential()\n",
        "    gen_input = Input(shape=(LATENT_DIM,))\n",
        "    gen = Dense(128 * 7 * 7, activation=\"relu\", input_dim=LATENT_DIM)(gen_input)\n",
        "    gen = Reshape((7, 7, 128))(gen)\n",
        "    gen = BatchNormalization(momentum=0.8)(gen)\n",
        "    gen = UpSampling2D()(gen)\n",
        "    gen = Conv2D(128, kernel_size=3, padding=\"same\")(gen)\n",
        "    gen = Activation(\"relu\")(gen)\n",
        "    gen = BatchNormalization(momentum=0.8)(gen)\n",
        "    gen = UpSampling2D()(gen)\n",
        "    gen = Conv2D(64, kernel_size=3, padding=\"same\")(gen)\n",
        "    gen = Activation(\"relu\")(gen)\n",
        "    gen = BatchNormalization(momentum=0.8)(gen)\n",
        "    gen = Conv2D(CHANNELS, kernel_size=3, padding='same')(gen)\n",
        "    gen_output = Activation(\"tanh\")(gen)\n",
        "\n",
        "    return Model(gen_input, gen_output)"
      ],
      "execution_count": 0,
      "outputs": []
    },
    {
      "cell_type": "code",
      "metadata": {
        "id": "YYGT-4Wlvcn2",
        "colab_type": "code",
        "colab": {}
      },
      "source": [
        "def build_disk_and_q_net():\n",
        "\n",
        "    img = Input(shape=IMG_SHAPE)\n",
        "\n",
        "    # Shared layers between discriminator and recognition network\n",
        "    # model = Sequential()\n",
        "    shared = Conv2D(64, kernel_size=3, strides=2, input_shape=IMG_SHAPE, padding=\"same\")(img)\n",
        "    shared = LeakyReLU(alpha=0.2)(shared)\n",
        "    shared = Dropout(0.25)(shared)\n",
        "    shared = Conv2D(128, kernel_size=3, strides=2, padding=\"same\")(shared)\n",
        "    shared = ZeroPadding2D(padding=((0,1),(0,1)))(shared)\n",
        "    shared = LeakyReLU(alpha=0.2)(shared)\n",
        "    shared = Dropout(0.25)(shared)\n",
        "    shared = BatchNormalization(momentum=0.8)(shared)\n",
        "    shared = Conv2D(256, kernel_size=3, strides=2, padding=\"same\")(shared)\n",
        "    shared = LeakyReLU(alpha=0.2)(shared)\n",
        "    shared = Dropout(0.25)(shared)\n",
        "    shared = BatchNormalization(momentum=0.8)(shared)\n",
        "    shared = Conv2D(512, kernel_size=3, strides=2, padding=\"same\")(shared)\n",
        "    shared = LeakyReLU(alpha=0.2)(shared)\n",
        "    shared = Dropout(0.25)(shared)\n",
        "    shared = BatchNormalization(momentum=0.8)(shared)\n",
        "    img_embedding = Flatten()(shared)\n",
        "\n",
        "    # img_embedding = model(img)\n",
        "\n",
        "    # Discriminator \n",
        "    validity = Dense(1, activation='sigmoid')(img_embedding)\n",
        "\n",
        "    # Recognition\n",
        "    q_net = Dense(128, activation='relu')(img_embedding)\n",
        "    label = Dense(NUM_CLASSES, activation='softmax')(q_net)\n",
        "\n",
        "    # Return discriminator and recognition network\n",
        "    return Model(img, validity), Model(img, label)"
      ],
      "execution_count": 0,
      "outputs": []
    },
    {
      "cell_type": "code",
      "metadata": {
        "id": "5K7-rs-LDtQ9",
        "colab_type": "code",
        "colab": {}
      },
      "source": [
        "def mutual_info_loss(c, c_given_x):\n",
        "    \"\"\"The mutual information metric we aim to minimize\"\"\"\n",
        "    eps = 1e-8\n",
        "    conditional_entropy = K.mean(- K.sum(K.log(c_given_x + eps) * c, axis=1))\n",
        "    entropy = K.mean(- K.sum(K.log(c + eps) * c, axis=1))\n",
        "\n",
        "    return conditional_entropy + entropy"
      ],
      "execution_count": 0,
      "outputs": []
    },
    {
      "cell_type": "code",
      "metadata": {
        "id": "klnXUJR3D6Ck",
        "colab_type": "code",
        "colab": {}
      },
      "source": [
        "def sample_generator_input(BATCH_SIZE):\n",
        "    # Generator inputs\n",
        "    sampled_noise = np.random.normal(0, 1, (BATCH_SIZE, 62))\n",
        "    sampled_labels = np.random.randint(0, NUM_CLASSES, BATCH_SIZE).reshape(-1, 1)\n",
        "    sampled_labels = to_categorical(sampled_labels, num_classes=NUM_CLASSES)\n",
        "\n",
        "    return sampled_noise, sampled_labels"
      ],
      "execution_count": 0,
      "outputs": []
    },
    {
      "cell_type": "markdown",
      "metadata": {
        "id": "LuVrDoDHEgxt",
        "colab_type": "text"
      },
      "source": [
        ""
      ]
    },
    {
      "cell_type": "code",
      "metadata": {
        "id": "ShA9vXN0EuQW",
        "colab_type": "code",
        "colab": {}
      },
      "source": [
        "(train_images, train_labels), (test_images, test_labels) = mnist.load_data()\n",
        "\n",
        "# Rescale -1 to 1\n",
        "train_images = (train_images.astype(np.float32) - 127.5) / 127.5\n",
        "train_images = np.expand_dims(train_images, axis=3)\n",
        "train_labels = train_labels.reshape(-1, 1)\n",
        "\n",
        "test_images = (test_images.astype(np.float32) - 127.5) / 127.5\n",
        "test_images = np.expand_dims(test_images, axis=3)"
      ],
      "execution_count": 0,
      "outputs": []
    },
    {
      "cell_type": "code",
      "metadata": {
        "id": "iPLnGuBsFi6z",
        "colab_type": "code",
        "outputId": "f303123f-0278-467f-aee9-44243a8fa14e",
        "colab": {
          "base_uri": "https://localhost:8080/",
          "height": 108
        }
      },
      "source": [
        "optimizer = Adam(0.0002, 0.5)\n",
        "losses = ['binary_crossentropy', mutual_info_loss]"
      ],
      "execution_count": 0,
      "outputs": [
        {
          "output_type": "stream",
          "text": [
            "WARNING:tensorflow:From /usr/local/lib/python3.6/dist-packages/tensorflow/python/ops/resource_variable_ops.py:435: colocate_with (from tensorflow.python.framework.ops) is deprecated and will be removed in a future version.\n",
            "Instructions for updating:\n",
            "Colocations handled automatically by placer.\n"
          ],
          "name": "stdout"
        }
      ]
    },
    {
      "cell_type": "code",
      "metadata": {
        "id": "iegnym5oFvaK",
        "colab_type": "code",
        "outputId": "c63d4c2e-0715-4f61-c274-c99f6db46f38",
        "colab": {
          "base_uri": "https://localhost:8080/",
          "height": 128
        }
      },
      "source": [
        "discriminator, auxilliary = build_disk_and_q_net()\n",
        "\n",
        "discriminator.compile(loss=['binary_crossentropy'],\n",
        "                      optimizer=optimizer,\n",
        "                      metrics=['accuracy'])\n",
        "\n",
        "auxilliary.compile(loss=[mutual_info_loss],\n",
        "                        optimizer=optimizer,\n",
        "                        metrics=['accuracy'])"
      ],
      "execution_count": 0,
      "outputs": [
        {
          "output_type": "stream",
          "text": [
            "WARNING:tensorflow:From /usr/local/lib/python3.6/dist-packages/tensorflow/python/keras/layers/core.py:143: calling dropout (from tensorflow.python.ops.nn_ops) with keep_prob is deprecated and will be removed in a future version.\n",
            "Instructions for updating:\n",
            "Please use `rate` instead of `keep_prob`. Rate should be set to `rate = 1 - keep_prob`.\n"
          ],
          "name": "stdout"
        }
      ]
    },
    {
      "cell_type": "code",
      "metadata": {
        "id": "Fm_bzhpbGETM",
        "colab_type": "code",
        "colab": {}
      },
      "source": [
        "generator = build_generator()\n",
        "\n",
        "generator_input = Input(shape=(LATENT_DIM,))\n",
        "image = generator(generator_input)\n",
        "\n",
        "discriminator.trainable = False\n",
        "\n",
        "validity = discriminator(image)\n",
        "target_label = auxilliary(image)\n",
        "\n",
        "combined = Model(generator_input, [validity, target_label])\n",
        "combined.compile(loss=losses, optimizer=optimizer)"
      ],
      "execution_count": 0,
      "outputs": []
    },
    {
      "cell_type": "code",
      "metadata": {
        "id": "-RUe3_SVICki",
        "colab_type": "code",
        "colab": {}
      },
      "source": [
        "EPOCHS = 5001\n",
        "BATCH_SIZE = 128\n",
        "SAMPLE_INTERVAL = 500"
      ],
      "execution_count": 0,
      "outputs": []
    },
    {
      "cell_type": "code",
      "metadata": {
        "id": "_RUIuxBdJ95t",
        "colab_type": "code",
        "colab": {}
      },
      "source": [
        "if not os.path.exists('images/'):\n",
        "  os.makedirs('images/')\n",
        "if not os.path.exists('models/'):\n",
        "  os.makedirs('models/')"
      ],
      "execution_count": 0,
      "outputs": []
    },
    {
      "cell_type": "code",
      "metadata": {
        "id": "1oL_L4ncEkVG",
        "colab_type": "code",
        "colab": {}
      },
      "source": [
        "def train():\n",
        "\n",
        "    # Adversarial ground truths\n",
        "    expected_valid = np.ones((BATCH_SIZE, 1))\n",
        "    expected_fake = np.zeros((BATCH_SIZE, 1))\n",
        "\n",
        "    for epoch in range(EPOCHS):\n",
        "\n",
        "        # ---------------------\n",
        "        #  Train Discriminator\n",
        "        # ---------------------\n",
        "\n",
        "        # Select a random half batch of images\n",
        "        batch = np.random.randint(0, train_images.shape[0], BATCH_SIZE)\n",
        "        images = train_images[batch]\n",
        "\n",
        "        # Sample noise and categorical labels\n",
        "        sampled_noise, sampled_labels = sample_generator_input(BATCH_SIZE)\n",
        "        gen_input = np.concatenate((sampled_noise, sampled_labels), axis=1)\n",
        "\n",
        "        # Generate a half batch of new images\n",
        "        gen_imgs = generator.predict(gen_input)\n",
        "\n",
        "        # Train on real and generated data\n",
        "        d_loss_real = discriminator.train_on_batch(images, expected_valid)\n",
        "        d_loss_fake = discriminator.train_on_batch(gen_imgs, expected_fake)\n",
        "\n",
        "        # Avg. loss\n",
        "        d_loss = 0.5 * np.add(d_loss_real, d_loss_fake)\n",
        "\n",
        "        # ---------------------\n",
        "        #  Train Generator and Q-network\n",
        "        # ---------------------\n",
        "\n",
        "        g_loss = combined.train_on_batch(gen_input, [expected_valid, sampled_labels])\n",
        "\n",
        "        # If at save interval => save generated image samples\n",
        "        if epoch % SAMPLE_INTERVAL == 0:\n",
        "            save_images(epoch, generator)\n",
        "            print (\"%d [D loss: %.2f, acc.: %.2f%%] [Q loss: %.2f] [G loss: %.2f]\" % (epoch, d_loss[0], 100*d_loss[1], g_loss[1], g_loss[2]))\n",
        "            generator.save(\"models/gen_%d.hd5\" % epoch)\n",
        "            discriminator.save(\"models/disc_%d.hd5\" % epoch)"
      ],
      "execution_count": 0,
      "outputs": []
    },
    {
      "cell_type": "code",
      "metadata": {
        "id": "z-fIWSv7I2I4",
        "colab_type": "code",
        "outputId": "ac217ea2-030a-4ec8-e910-0b961d3ab057",
        "colab": {
          "base_uri": "https://localhost:8080/",
          "height": 365
        }
      },
      "source": [
        "train()"
      ],
      "execution_count": 0,
      "outputs": [
        {
          "output_type": "stream",
          "text": [
            "WARNING:tensorflow:Discrepancy between trainable weights and collected trainable weights, did you set `model.trainable` without calling `model.compile` after ?\n",
            "WARNING:tensorflow:From /usr/local/lib/python3.6/dist-packages/tensorflow/python/ops/math_ops.py:3066: to_int32 (from tensorflow.python.ops.math_ops) is deprecated and will be removed in a future version.\n",
            "Instructions for updating:\n",
            "Use tf.cast instead.\n",
            "WARNING:tensorflow:Discrepancy between trainable weights and collected trainable weights, did you set `model.trainable` without calling `model.compile` after ?\n",
            "0 [D loss: 1.09, acc.: 46.88%] [Q loss: 1.03] [G loss: 2.95]\n",
            "500 [D loss: 0.78, acc.: 55.08%] [Q loss: 0.82] [G loss: 0.04]\n",
            "1000 [D loss: 0.73, acc.: 53.52%] [Q loss: 0.75] [G loss: 0.01]\n",
            "1500 [D loss: 0.73, acc.: 55.47%] [Q loss: 0.72] [G loss: 0.01]\n",
            "2000 [D loss: 0.74, acc.: 50.78%] [Q loss: 0.69] [G loss: 0.01]\n",
            "2500 [D loss: 0.70, acc.: 56.25%] [Q loss: 0.70] [G loss: 0.00]\n",
            "3000 [D loss: 0.72, acc.: 53.52%] [Q loss: 0.64] [G loss: 0.00]\n",
            "3500 [D loss: 0.71, acc.: 52.34%] [Q loss: 0.65] [G loss: 0.00]\n",
            "4000 [D loss: 0.70, acc.: 51.56%] [Q loss: 0.63] [G loss: 0.00]\n",
            "4500 [D loss: 0.70, acc.: 51.17%] [Q loss: 0.67] [G loss: 0.00]\n",
            "5000 [D loss: 0.69, acc.: 53.52%] [Q loss: 0.66] [G loss: 0.00]\n"
          ],
          "name": "stdout"
        }
      ]
    },
    {
      "cell_type": "code",
      "metadata": {
        "id": "dc6gUrLgJFZd",
        "colab_type": "code",
        "colab": {}
      },
      "source": [
        "try:\n",
        "  from google.colab import files\n",
        "except ImportError:\n",
        "  pass\n",
        "else:\n",
        "  files.download('images/mnist_5000.png')"
      ],
      "execution_count": 0,
      "outputs": []
    },
    {
      "cell_type": "code",
      "metadata": {
        "id": "h2ndNIhuKUh7",
        "colab_type": "code",
        "outputId": "3203a4cb-7700-44ec-84c5-1a89821a534d",
        "colab": {
          "base_uri": "https://localhost:8080/",
          "height": 94
        }
      },
      "source": [
        "new_disc = load_model('models/disc_5000.hd5')"
      ],
      "execution_count": 0,
      "outputs": [
        {
          "output_type": "stream",
          "text": [
            "WARNING:tensorflow:Error in loading the saved optimizer state. As a result, your model is starting with a freshly initialized optimizer.\n"
          ],
          "name": "stdout"
        }
      ]
    },
    {
      "cell_type": "code",
      "metadata": {
        "id": "7ebPWqdkJ36c",
        "colab_type": "code",
        "outputId": "6dd38e48-c0ac-4120-d26a-b9a0f1d230d9",
        "colab": {
          "base_uri": "https://localhost:8080/",
          "height": 748
        }
      },
      "source": [
        "chopped_disc = Model(new_disc.inputs, new_disc.layers[-2].output)\n",
        "chopped_disc.summary()"
      ],
      "execution_count": 0,
      "outputs": [
        {
          "output_type": "stream",
          "text": [
            "_________________________________________________________________\n",
            "Layer (type)                 Output Shape              Param #   \n",
            "=================================================================\n",
            "input_1 (InputLayer)         (None, 28, 28, 1)         0         \n",
            "_________________________________________________________________\n",
            "conv2d (Conv2D)              (None, 14, 14, 64)        640       \n",
            "_________________________________________________________________\n",
            "leaky_re_lu (LeakyReLU)      (None, 14, 14, 64)        0         \n",
            "_________________________________________________________________\n",
            "dropout (Dropout)            (None, 14, 14, 64)        0         \n",
            "_________________________________________________________________\n",
            "conv2d_1 (Conv2D)            (None, 7, 7, 128)         73856     \n",
            "_________________________________________________________________\n",
            "zero_padding2d (ZeroPadding2 (None, 8, 8, 128)         0         \n",
            "_________________________________________________________________\n",
            "leaky_re_lu_1 (LeakyReLU)    (None, 8, 8, 128)         0         \n",
            "_________________________________________________________________\n",
            "dropout_1 (Dropout)          (None, 8, 8, 128)         0         \n",
            "_________________________________________________________________\n",
            "batch_normalization_v1 (Batc (None, 8, 8, 128)         512       \n",
            "_________________________________________________________________\n",
            "conv2d_2 (Conv2D)            (None, 4, 4, 256)         295168    \n",
            "_________________________________________________________________\n",
            "leaky_re_lu_2 (LeakyReLU)    (None, 4, 4, 256)         0         \n",
            "_________________________________________________________________\n",
            "dropout_2 (Dropout)          (None, 4, 4, 256)         0         \n",
            "_________________________________________________________________\n",
            "batch_normalization_v1_1 (Ba (None, 4, 4, 256)         1024      \n",
            "_________________________________________________________________\n",
            "conv2d_3 (Conv2D)            (None, 2, 2, 512)         1180160   \n",
            "_________________________________________________________________\n",
            "leaky_re_lu_3 (LeakyReLU)    (None, 2, 2, 512)         0         \n",
            "_________________________________________________________________\n",
            "dropout_3 (Dropout)          (None, 2, 2, 512)         0         \n",
            "_________________________________________________________________\n",
            "batch_normalization_v1_2 (Ba (None, 2, 2, 512)         2048      \n",
            "_________________________________________________________________\n",
            "flatten (Flatten)            (None, 2048)              0         \n",
            "=================================================================\n",
            "Total params: 1,553,408\n",
            "Trainable params: 1,551,616\n",
            "Non-trainable params: 1,792\n",
            "_________________________________________________________________\n"
          ],
          "name": "stdout"
        }
      ]
    },
    {
      "cell_type": "code",
      "metadata": {
        "id": "dRg_x5vLJ6eR",
        "colab_type": "code",
        "outputId": "a6e128f4-060d-4abb-ed90-0b049178039f",
        "colab": {
          "base_uri": "https://localhost:8080/",
          "height": 255
        }
      },
      "source": [
        "chopped_flat_output = chopped_disc.predict(test_images)\n",
        "print(chopped_flat_output.shape)\n",
        "chopped_flat_output"
      ],
      "execution_count": 0,
      "outputs": [
        {
          "output_type": "stream",
          "text": [
            "(10000, 2048)\n"
          ],
          "name": "stdout"
        },
        {
          "output_type": "execute_result",
          "data": {
            "text/plain": [
              "array([[-1.3473245 , -0.58576894, -1.7137791 , ..., -0.4480313 ,\n",
              "        -0.27930167, -0.6217854 ],\n",
              "       [-0.36521852, -0.20674282, -0.745016  , ..., -0.1803604 ,\n",
              "        -0.16319025, -0.5758529 ],\n",
              "       [-1.4072446 , -1.2072629 , -1.4718748 , ..., -0.4383658 ,\n",
              "        -0.2826519 , -0.6202229 ],\n",
              "       ...,\n",
              "       [-0.7438277 , -0.4720553 , -0.6513249 , ..., -0.4361339 ,\n",
              "        -0.28718066, -0.62022877],\n",
              "       [ 0.10326747, -0.8354136 , -1.0677477 , ..., -0.46666768,\n",
              "        -0.27658045, -0.6233153 ],\n",
              "       [ 0.55118006, -0.540073  , -1.4577026 , ..., -0.5824532 ,\n",
              "        -0.19818647, -0.5961566 ]], dtype=float32)"
            ]
          },
          "metadata": {
            "tags": []
          },
          "execution_count": 19
        }
      ]
    },
    {
      "cell_type": "code",
      "metadata": {
        "id": "S2uasQCBJ8Gr",
        "colab_type": "code",
        "outputId": "23c91836-d508-486b-df43-4650175bd65d",
        "colab": {
          "base_uri": "https://localhost:8080/",
          "height": 238
        }
      },
      "source": [
        "from scipy.spatial.distance import pdist, squareform\n",
        "\n",
        "dist = pdist(chopped_flat_output)\n",
        "distances = squareform(dist)\n",
        "distances"
      ],
      "execution_count": 0,
      "outputs": [
        {
          "output_type": "execute_result",
          "data": {
            "text/plain": [
              "array([[ 0.        , 39.8778614 , 31.86064396, ..., 25.55253029,\n",
              "        27.88301159, 48.55777579],\n",
              "       [39.8778614 ,  0.        , 44.28314178, ..., 34.79136595,\n",
              "        30.85553396, 33.66348158],\n",
              "       [31.86064396, 44.28314178,  0.        , ..., 38.41487703,\n",
              "        31.57251447, 55.51135889],\n",
              "       ...,\n",
              "       [25.55253029, 34.79136595, 38.41487703, ...,  0.        ,\n",
              "        20.38631021, 37.27837716],\n",
              "       [27.88301159, 30.85553396, 31.57251447, ..., 20.38631021,\n",
              "         0.        , 39.59646565],\n",
              "       [48.55777579, 33.66348158, 55.51135889, ..., 37.27837716,\n",
              "        39.59646565,  0.        ]])"
            ]
          },
          "metadata": {
            "tags": []
          },
          "execution_count": 20
        }
      ]
    },
    {
      "cell_type": "code",
      "metadata": {
        "id": "p_se3kNwJ9sd",
        "colab_type": "code",
        "outputId": "811987cf-1f6f-4750-c166-4636e3010312",
        "colab": {
          "base_uri": "https://localhost:8080/",
          "height": 187
        }
      },
      "source": [
        "classes = range(10)\n",
        "for i in classes:\n",
        "  print(i, test_labels[distances[test_labels==i][10].argsort()[:20]])"
      ],
      "execution_count": 0,
      "outputs": [
        {
          "output_type": "stream",
          "text": [
            "0 [0 0 0 0 0 0 0 0 0 0 0 0 0 0 0 0 0 0 0 0]\n",
            "1 [1 1 1 1 1 1 1 1 1 1 1 1 1 1 1 1 1 1 1 1]\n",
            "2 [2 2 2 2 2 2 2 2 2 2 2 2 2 2 2 2 2 2 2 2]\n",
            "3 [3 3 3 3 3 3 3 3 3 3 3 3 3 3 3 3 3 3 3 3]\n",
            "4 [4 4 4 9 4 4 4 9 4 9 9 4 9 9 4 9 9 9 9 4]\n",
            "5 [5 5 5 5 5 5 5 5 3 5 5 5 5 5 5 5 5 5 5 5]\n",
            "6 [6 6 6 6 6 6 6 2 6 2 6 6 6 6 6 4 6 2 6 6]\n",
            "7 [7 7 7 7 7 7 7 7 7 7 7 7 7 7 7 7 7 7 7 7]\n",
            "8 [8 8 8 8 8 8 8 8 8 8 8 8 8 3 8 8 8 8 8 8]\n",
            "9 [9 9 7 9 9 9 9 9 9 7 9 9 9 9 9 9 9 9 9 9]\n"
          ],
          "name": "stdout"
        }
      ]
    },
    {
      "cell_type": "code",
      "metadata": {
        "id": "cTMWUSUQJ_q3",
        "colab_type": "code",
        "outputId": "25855d7d-ca17-4da6-e189-374f2a9f6d4e",
        "colab": {
          "base_uri": "https://localhost:8080/",
          "height": 187
        }
      },
      "source": [
        "means = np.zeros((10,10))\n",
        "for i in classes:\n",
        "  for j in classes:\n",
        "    means[i, j] = distances[test_labels==i][:,test_labels==j].mean()\n",
        "\n",
        "print(np.triu(np.round(means, 2)))"
      ],
      "execution_count": 0,
      "outputs": [
        {
          "output_type": "stream",
          "text": [
            "[[35.6  53.3  41.29 42.37 46.71 43.94 44.23 45.07 40.95 45.93]\n",
            " [ 0.   19.52 41.24 42.86 34.5  39.83 39.86 32.39 38.93 34.09]\n",
            " [ 0.    0.   32.93 37.41 36.41 38.02 34.29 37.46 34.42 36.21]\n",
            " [ 0.    0.    0.   33.69 39.32 35.89 38.93 36.48 34.42 37.02]\n",
            " [ 0.    0.    0.    0.   27.22 37.71 32.01 32.76 34.68 28.62]\n",
            " [ 0.    0.    0.    0.    0.   34.61 38.83 36.78 34.24 36.71]\n",
            " [ 0.    0.    0.    0.    0.    0.   26.9  36.83 35.68 33.14]\n",
            " [ 0.    0.    0.    0.    0.    0.    0.   26.91 33.82 30.12]\n",
            " [ 0.    0.    0.    0.    0.    0.    0.    0.   29.92 33.25]\n",
            " [ 0.    0.    0.    0.    0.    0.    0.    0.    0.   27.34]]\n"
          ],
          "name": "stdout"
        }
      ]
    },
    {
      "cell_type": "code",
      "metadata": {
        "id": "kv8Rv_h5KOzG",
        "colab_type": "code",
        "outputId": "8a3a80fa-1fbc-43a2-8bbf-312be7b43697",
        "colab": {
          "base_uri": "https://localhost:8080/",
          "height": 1819
        }
      },
      "source": [
        "near_counts_3 = np.zeros((np.unique(test_labels).size, np.unique(test_labels).size))\n",
        "class_counts_3 = np.zeros(np.unique(test_labels).size)\n",
        "\n",
        "for i in np.unique(test_labels):\n",
        "  print('new i', i)\n",
        "  for j in range(np.sum(test_labels==i)):\n",
        "    for near_member in test_labels[distances[test_labels==i][j].argsort()[:3]]:\n",
        "      near_counts_3[i,near_member] += 1\n",
        "      class_counts_3[i] += 1\n",
        "\n",
        "near_frac_3 = np.copy(near_counts_3)\n",
        "for i in range(class_counts_3.size):\n",
        "  near_frac_3[i,:] = near_frac_3[i,:]/class_counts_3[i]\n",
        "\n",
        "for i in range(near_frac_3.shape[0]):\n",
        "  print(i, near_frac_3[i,:])\n",
        "\n",
        "near_counts_5 = np.zeros((np.unique(test_labels).size, np.unique(test_labels).size))\n",
        "class_counts_5 = np.zeros(np.unique(test_labels).size)\n",
        "\n",
        "for i in np.unique(test_labels):\n",
        "  print('new i', i)\n",
        "  for j in range(np.sum(test_labels==i)):\n",
        "    for near_member in test_labels[distances[test_labels==i][j].argsort()[:5]]:\n",
        "      near_counts_5[i,near_member] += 1\n",
        "      class_counts_5[i] += 1\n",
        "\n",
        "near_frac_5 = np.copy(near_counts_5)\n",
        "for i in range(class_counts_5.size):\n",
        "  near_frac_5[i,:] = near_frac_5[i,:]/class_counts_5[i]\n",
        "\n",
        "for i in range(near_frac_5.shape[0]):\n",
        "  print(i, near_frac_5[i,:])\n",
        "\n",
        "near_counts_10 = np.zeros((np.unique(test_labels).size, np.unique(test_labels).size))\n",
        "class_counts_10 = np.zeros(np.unique(test_labels).size)\n",
        "\n",
        "for i in np.unique(test_labels):\n",
        "  print('new i', i)\n",
        "  for j in range(np.sum(test_labels==i)):\n",
        "    for near_member in test_labels[distances[test_labels==i][j].argsort()[:10]]:\n",
        "      near_counts_10[i,near_member] += 1\n",
        "      class_counts_10[i] += 1\n",
        "\n",
        "near_frac_10 = np.copy(near_counts_10)\n",
        "for i in range(class_counts_10.size):\n",
        "  near_frac_10[i,:] = near_frac_10[i,:]/class_counts_10[i]\n",
        "\n",
        "for i in range(near_frac_10.shape[0]):\n",
        "  print(i, near_frac_10[i,:])"
      ],
      "execution_count": 0,
      "outputs": [
        {
          "output_type": "stream",
          "text": [
            "new i 0\n",
            "new i 1\n",
            "new i 2\n",
            "new i 3\n",
            "new i 4\n",
            "new i 5\n",
            "new i 6\n",
            "new i 7\n",
            "new i 8\n",
            "new i 9\n",
            "0 [9.74829932e-01 0.00000000e+00 1.70068027e-03 2.38095238e-03\n",
            " 6.80272109e-04 2.72108844e-03 7.82312925e-03 1.70068027e-03\n",
            " 7.48299320e-03 6.80272109e-04]\n",
            "1 [0.00000000e+00 9.90308370e-01 3.52422907e-03 8.81057269e-04\n",
            " 2.93685756e-04 0.00000000e+00 1.76211454e-03 1.17474302e-03\n",
            " 1.46842878e-03 5.87371512e-04]\n",
            "2 [0.01776486 0.00258398 0.92700258 0.0122739  0.00549096 0.00193798\n",
            " 0.01356589 0.00742894 0.00968992 0.00226098]\n",
            "3 [0.00990099 0.00231023 0.00891089 0.86138614 0.00165017 0.05049505\n",
            " 0.00528053 0.00528053 0.04356436 0.01122112]\n",
            "4 [1.01832994e-03 1.01832994e-03 2.71554650e-03 3.39443313e-04\n",
            " 9.04955872e-01 1.01832994e-03 1.05227427e-02 3.73387644e-03\n",
            " 3.39443313e-04 7.43380855e-02]\n",
            "5 [3.36322870e-03 7.47384155e-04 1.86846039e-03 7.13751868e-02\n",
            " 1.86846039e-03 8.53512706e-01 1.86846039e-02 1.12107623e-03\n",
            " 3.69955157e-02 1.04633782e-02]\n",
            "6 [6.26304802e-03 2.78357690e-03 5.21920668e-03 3.47947112e-04\n",
            " 3.13152401e-03 4.52331246e-03 9.71816284e-01 0.00000000e+00\n",
            " 4.52331246e-03 1.39178845e-03]\n",
            "7 [6.48508431e-04 7.45784695e-03 7.13359274e-03 9.72762646e-04\n",
            " 1.36186770e-02 6.48508431e-04 0.00000000e+00 9.17639429e-01\n",
            " 1.94552529e-03 4.99351492e-02]\n",
            "8 [0.0119781  0.00273785 0.00513347 0.03080082 0.00889802 0.01882272\n",
            " 0.00718686 0.00718686 0.8908282  0.0164271 ]\n",
            "9 [0.0033036  0.00264288 0.00198216 0.00693756 0.03931285 0.00198216\n",
            " 0.00099108 0.02279485 0.00462504 0.91542782]\n",
            "new i 0\n",
            "new i 1\n",
            "new i 2\n",
            "new i 3\n",
            "new i 4\n",
            "new i 5\n",
            "new i 6\n",
            "new i 7\n",
            "new i 8\n",
            "new i 9\n",
            "0 [9.64897959e-01 0.00000000e+00 3.06122449e-03 3.67346939e-03\n",
            " 8.16326531e-04 3.26530612e-03 1.10204082e-02 2.04081633e-03\n",
            " 9.59183673e-03 1.63265306e-03]\n",
            "1 [0.00000000e+00 9.86255507e-01 3.52422907e-03 2.64317181e-03\n",
            " 3.52422907e-04 0.00000000e+00 3.17180617e-03 1.76211454e-03\n",
            " 1.40969163e-03 8.81057269e-04]\n",
            "2 [0.025      0.00484496 0.88643411 0.01899225 0.00930233 0.00310078\n",
            " 0.02054264 0.01085271 0.01763566 0.00329457]\n",
            "3 [0.01643564 0.00217822 0.01287129 0.80851485 0.00237624 0.06534653\n",
            " 0.00732673 0.00712871 0.06257426 0.01524752]\n",
            "4 [1.01832994e-03 1.42566191e-03 5.29531568e-03 2.03665988e-04\n",
            " 8.69857434e-01 8.14663951e-04 1.22199593e-02 5.29531568e-03\n",
            " 6.10997963e-04 1.03258656e-01]\n",
            "5 [0.00627803 0.00246637 0.00336323 0.09618834 0.00515695 0.79730942\n",
            " 0.02533632 0.00179372 0.05089686 0.01121076]\n",
            "6 [9.18580376e-03 3.34029228e-03 5.01043841e-03 1.67014614e-03\n",
            " 5.01043841e-03 7.51565762e-03 9.59498956e-01 2.08768267e-04\n",
            " 7.09812109e-03 1.46137787e-03]\n",
            "7 [9.72762646e-04 9.53307393e-03 8.36575875e-03 1.36186770e-03\n",
            " 1.73151751e-02 3.89105058e-04 5.83657588e-04 8.84630350e-01\n",
            " 3.30739300e-03 7.35408560e-02]\n",
            "8 [0.01806982 0.00451745 0.00698152 0.04188912 0.01211499 0.02997947\n",
            " 0.00944559 0.00862423 0.84558522 0.02279261]\n",
            "9 [0.00396432 0.00376611 0.00178394 0.0099108  0.05688801 0.00297324\n",
            " 0.00237859 0.03052527 0.0061447  0.88166501]\n",
            "new i 0\n",
            "new i 1\n",
            "new i 2\n",
            "new i 3\n",
            "new i 4\n",
            "new i 5\n",
            "new i 6\n",
            "new i 7\n",
            "new i 8\n",
            "new i 9\n",
            "0 [9.42959184e-01 3.06122449e-04 4.79591837e-03 8.87755102e-03\n",
            " 1.73469388e-03 4.38775510e-03 1.57142857e-02 2.95918367e-03\n",
            " 1.56122449e-02 2.65306122e-03]\n",
            "1 [2.64317181e-04 9.83083700e-01 3.96475771e-03 3.08370044e-03\n",
            " 1.76211454e-04 1.76211454e-04 3.87665198e-03 1.40969163e-03\n",
            " 2.64317181e-03 1.32158590e-03]\n",
            "2 [0.03362403 0.00610465 0.82965116 0.02800388 0.01550388 0.00377907\n",
            " 0.03459302 0.01531008 0.02800388 0.00542636]\n",
            "3 [0.02455446 0.00366337 0.01821782 0.73653465 0.00316832 0.08792079\n",
            " 0.01039604 0.01039604 0.08267327 0.02247525]\n",
            "4 [1.32382892e-03 1.93482688e-03 6.51731161e-03 2.03665988e-04\n",
            " 8.16191446e-01 2.24032587e-03 1.78207739e-02 5.49898167e-03\n",
            " 2.34215886e-03 1.45926680e-01]\n",
            "5 [0.00919283 0.0073991  0.00560538 0.13004484 0.01053812 0.71289238\n",
            " 0.03004484 0.00369955 0.07735426 0.0132287 ]\n",
            "6 [1.26304802e-02 4.80167015e-03 6.26304802e-03 4.17536534e-03\n",
            " 7.09812109e-03 1.06471816e-02 9.43006263e-01 4.17536534e-04\n",
            " 8.97703549e-03 1.98329854e-03]\n",
            "7 [2.04280156e-03 1.30350195e-02 8.56031128e-03 3.69649805e-03\n",
            " 2.30544747e-02 6.80933852e-04 1.84824903e-03 8.37548638e-01\n",
            " 7.87937743e-03 1.01653696e-01]\n",
            "8 [0.02371663 0.00728953 0.00903491 0.05472279 0.01570842 0.04199179\n",
            " 0.01293634 0.012423   0.79178645 0.03039014]\n",
            "9 [0.0049554  0.00555005 0.00188305 0.01268583 0.08364718 0.00307235\n",
            " 0.00317146 0.0407334  0.01000991 0.83429138]\n"
          ],
          "name": "stdout"
        }
      ]
    },
    {
      "cell_type": "code",
      "metadata": {
        "id": "_x9IsCyAXW9D",
        "colab_type": "code",
        "colab": {}
      },
      "source": [
        "import seaborn as sns; sns.set()"
      ],
      "execution_count": 0,
      "outputs": []
    },
    {
      "cell_type": "code",
      "metadata": {
        "id": "r66vhccfXXE6",
        "colab_type": "code",
        "outputId": "78325178-d6ab-4c29-95f2-11d289ebbb6c",
        "colab": {
          "base_uri": "https://localhost:8080/",
          "height": 291
        }
      },
      "source": [
        "sns.heatmap(near_frac_3, annot=True, fmt='.0%')"
      ],
      "execution_count": 0,
      "outputs": [
        {
          "output_type": "execute_result",
          "data": {
            "text/plain": [
              "<matplotlib.axes._subplots.AxesSubplot at 0x7fdb533f1240>"
            ]
          },
          "metadata": {
            "tags": []
          },
          "execution_count": 25
        },
        {
          "output_type": "display_data",
          "data": {
            "image/png": "[encoded data removed]",
            "text/plain": [
              "<Figure size 432x288 with 2 Axes>"
            ]
          },
          "metadata": {
            "tags": []
          }
        }
      ]
    },
    {
      "cell_type": "code",
      "metadata": {
        "id": "5KouvWIaXXMr",
        "colab_type": "code",
        "outputId": "485bd263-730a-4c46-abb6-e635b7f6fb97",
        "colab": {
          "base_uri": "https://localhost:8080/",
          "height": 291
        }
      },
      "source": [
        "sns.heatmap(near_frac_5, annot=True, fmt='.0%')"
      ],
      "execution_count": 0,
      "outputs": [
        {
          "output_type": "execute_result",
          "data": {
            "text/plain": [
              "<matplotlib.axes._subplots.AxesSubplot at 0x7fdb530a89e8>"
            ]
          },
          "metadata": {
            "tags": []
          },
          "execution_count": 26
        },
        {
          "output_type": "display_data",
          "data": {
            "image/png": "[encoded data removed]",
            "text/plain": [
              "<Figure size 432x288 with 2 Axes>"
            ]
          },
          "metadata": {
            "tags": []
          }
        }
      ]
    },
    {
      "cell_type": "code",
      "metadata": {
        "id": "PDBXqpEcXXup",
        "colab_type": "code",
        "outputId": "7f845899-356a-4135-b09b-6c8ee4fbf4e3",
        "colab": {
          "base_uri": "https://localhost:8080/",
          "height": 291
        }
      },
      "source": [
        "sns.heatmap(near_frac_10, annot=True, fmt='.0%')"
      ],
      "execution_count": 0,
      "outputs": [
        {
          "output_type": "execute_result",
          "data": {
            "text/plain": [
              "<matplotlib.axes._subplots.AxesSubplot at 0x7fdb52ccf198>"
            ]
          },
          "metadata": {
            "tags": []
          },
          "execution_count": 27
        },
        {
          "output_type": "display_data",
          "data": {
            "image/png": "[encoded data removed]",
            "text/plain": [
              "<Figure size 432x288 with 2 Axes>"
            ]
          },
          "metadata": {
            "tags": []
          }
        }
      ]
    },
    {
      "cell_type": "code",
      "metadata": {
        "id": "uiw4EA0qsZdU",
        "colab_type": "code",
        "colab": {}
      },
      "source": [
        ""
      ],
      "execution_count": 0,
      "outputs": []
    }
  ]
}